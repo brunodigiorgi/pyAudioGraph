{
 "cells": [
  {
   "cell_type": "markdown",
   "metadata": {
    "toc": "true"
   },
   "source": [
    "# Table of Contents\n",
    " <p><div class=\"lev1 toc-item\"><a href=\"#1.-Create-the-units\" data-toc-modified-id=\"1.-Create-the-units-1\"><span class=\"toc-item-num\">1&nbsp;&nbsp;</span>1. Create the units</a></div><div class=\"lev1 toc-item\"><a href=\"#2.-Connect-the-units\" data-toc-modified-id=\"2.-Connect-the-units-2\"><span class=\"toc-item-num\">2&nbsp;&nbsp;</span>2. Connect the units</a></div><div class=\"lev1 toc-item\"><a href=\"#3.-Append-the-nodes-and-then-sort-the-graph\" data-toc-modified-id=\"3.-Append-the-nodes-and-then-sort-the-graph-3\"><span class=\"toc-item-num\">3&nbsp;&nbsp;</span>3. Append the nodes and then sort the graph</a></div><div class=\"lev1 toc-item\"><a href=\"#4.-Run\" data-toc-modified-id=\"4.-Run-4\"><span class=\"toc-item-num\">4&nbsp;&nbsp;</span>4. Run</a></div>"
   ]
  },
  {
   "cell_type": "code",
   "execution_count": 1,
   "metadata": {
    "collapsed": false,
    "deletable": true,
    "editable": true
   },
   "outputs": [],
   "source": [
    "import pyAudioGraph as ag"
   ]
  },
  {
   "cell_type": "code",
   "execution_count": 2,
   "metadata": {
    "collapsed": true,
    "deletable": true,
    "editable": true
   },
   "outputs": [],
   "source": [
    "# choose a wav file on your pc\n",
    "wav_file = 'AudioFile.wav'  # only signed 16/32 bit supported"
   ]
  },
  {
   "cell_type": "markdown",
   "metadata": {
    "deletable": true,
    "editable": true
   },
   "source": [
    "## 1. Create the units"
   ]
  },
  {
   "cell_type": "code",
   "execution_count": 3,
   "metadata": {
    "collapsed": false,
    "deletable": true,
    "editable": true
   },
   "outputs": [],
   "source": [
    "world = ag.World(nchannels=2, buf_len=512)\n",
    "\n",
    "# create the diskInUnit\n",
    "audioStream = ag.AudioStreamWaveFile(wav_file)\n",
    "diskInNode = ag.Nodes.DiskInNode(world, audioStream)\n",
    "\n",
    "# create the output Unit\n",
    "outNode = ag.Nodes.OutNode(world)"
   ]
  },
  {
   "cell_type": "markdown",
   "metadata": {
    "deletable": true,
    "editable": true
   },
   "source": [
    "## 2. Connect the units"
   ]
  },
  {
   "cell_type": "code",
   "execution_count": 4,
   "metadata": {
    "collapsed": true,
    "deletable": true,
    "editable": true
   },
   "outputs": [],
   "source": [
    "for i in range(diskInNode.nchannels):\n",
    "    diskInNode.w_out[i].plug_into(outNode.w_in[i])"
   ]
  },
  {
   "cell_type": "markdown",
   "metadata": {
    "deletable": true,
    "editable": true
   },
   "source": [
    "## 3. Append the nodes and then sort the graph"
   ]
  },
  {
   "cell_type": "code",
   "execution_count": 5,
   "metadata": {
    "collapsed": false,
    "deletable": true,
    "editable": true,
    "scrolled": false
   },
   "outputs": [],
   "source": [
    "world.append([outNode, diskInNode])\n",
    "world.sort()"
   ]
  },
  {
   "cell_type": "markdown",
   "metadata": {
    "deletable": true,
    "editable": true
   },
   "source": [
    "## 4. Run "
   ]
  },
  {
   "cell_type": "code",
   "execution_count": 6,
   "metadata": {
    "collapsed": false,
    "deletable": true,
    "editable": true
   },
   "outputs": [],
   "source": [
    "import time\n",
    "world.start()\n",
    "time.sleep(20)\n",
    "world.stop()"
   ]
  }
 ],
 "metadata": {
  "kernelspec": {
   "display_name": "Python 3",
   "language": "python",
   "name": "python3"
  },
  "language_info": {
   "codemirror_mode": {
    "name": "ipython",
    "version": 3
   },
   "file_extension": ".py",
   "mimetype": "text/x-python",
   "name": "python",
   "nbconvert_exporter": "python",
   "pygments_lexer": "ipython3",
   "version": "3.5.3"
  },
  "toc": {
   "colors": {
    "hover_highlight": "#DAA520",
    "running_highlight": "#FF0000",
    "selected_highlight": "#FFD700"
   },
   "moveMenuLeft": true,
   "nav_menu": {
    "height": "84px",
    "width": "252px"
   },
   "navigate_menu": true,
   "number_sections": true,
   "sideBar": true,
   "threshold": 4,
   "toc_cell": true,
   "toc_section_display": "block",
   "toc_window_display": false
  }
 },
 "nbformat": 4,
 "nbformat_minor": 0
}
